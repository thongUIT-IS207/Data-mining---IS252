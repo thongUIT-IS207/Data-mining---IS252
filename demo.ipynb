{
 "cells": [
  {
   "cell_type": "code",
   "execution_count": 7,
   "metadata": {},
   "outputs": [
    {
     "name": "stdout",
     "output_type": "stream",
     "text": [
      "Writing your_script.py\n"
     ]
    }
   ],
   "source": [
    "%%writefile your_script.py\n",
    "import streamlit as st\n",
    "import pandas as pd\n",
    "import numpy as np\n",
    "from sklearn.linear_model import LinearRegression\n",
    "\n",
    "# Tiêu đề ứng dụng\n",
    "st.title(\"Dự đoán giá nhà\")\n",
    "\n",
    "# Load dữ liệu mẫu\n",
    "data = pd.DataFrame({\n",
    "    'Diện tích (m2)': [50, 60, 70, 80, 100],\n",
    "    'Giá nhà (tỷ đồng)': [1.2, 1.5, 1.7, 2.0, 2.5]\n",
    "})\n",
    "\n",
    "# Hiển thị dữ liệu\n",
    "st.write(\"Dữ liệu mẫu:\", data)\n",
    "\n",
    "# Xây dựng mô hình\n",
    "model = LinearRegression()\n",
    "X = data[['Diện tích (m2)']]\n",
    "y = data['Giá nhà (tỷ đồng)']\n",
    "model.fit(X, y)\n",
    "\n",
    "# Nhập diện tích từ người dùng\n",
    "area = st.number_input(\"Nhập diện tích (m2):\", min_value=10, max_value=500, value=100)\n",
    "\n",
    "# Dự đoán giá\n",
    "if st.button(\"Dự đoán giá\"):\n",
    "    prediction = model.predict(np.array([[area]]))\n",
    "    st.write(f\"Giá dự đoán: {prediction[0]:.2f} tỷ đồng\")\n"
   ]
  },
  {
   "cell_type": "code",
   "execution_count": 8,
   "metadata": {},
   "outputs": [
    {
     "data": {
      "text/html": [
       "\n",
       "        <iframe\n",
       "            width=\"900\"\n",
       "            height=\"600\"\n",
       "            src=\"http://localhost:8501\"\n",
       "            frameborder=\"0\"\n",
       "            allowfullscreen\n",
       "            \n",
       "        ></iframe>\n",
       "        "
      ],
      "text/plain": [
       "<IPython.lib.display.IFrame at 0x13c4cefa8d0>"
      ]
     },
     "metadata": {},
     "output_type": "display_data"
    }
   ],
   "source": [
    "import subprocess\n",
    "import time\n",
    "from IPython.display import IFrame\n",
    "\n",
    "# Chạy ứng dụng Streamlit trên cổng 8501\n",
    "process = subprocess.Popen([\"streamlit\", \"run\", \"your_script.py\", \"--server.port=8501\"])\n",
    "\n",
    "# Chờ ứng dụng khởi động\n",
    "time.sleep(5)\n",
    "\n",
    "# Hiển thị ứng dụng Streamlit trong Jupyter Notebook\n",
    "display(IFrame(src=\"http://localhost:8501\", width=900, height=600))\n"
   ]
  }
 ],
 "metadata": {
  "kernelspec": {
   "display_name": "base",
   "language": "python",
   "name": "python3"
  },
  "language_info": {
   "codemirror_mode": {
    "name": "ipython",
    "version": 3
   },
   "file_extension": ".py",
   "mimetype": "text/x-python",
   "name": "python",
   "nbconvert_exporter": "python",
   "pygments_lexer": "ipython3",
   "version": "3.11.7"
  }
 },
 "nbformat": 4,
 "nbformat_minor": 2
}
