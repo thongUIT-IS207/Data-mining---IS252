{
 "cells": [
  {
   "cell_type": "code",
   "execution_count": 2,
   "metadata": {},
   "outputs": [
    {
     "name": "stdout",
     "output_type": "stream",
     "text": [
      "Nhãn của các điểm dữ liệu: [0 0 0 1]\n",
      "Tọa độ tâm cụm: [[1.26666667 3.        ]\n",
      " [3.         1.        ]]\n"
     ]
    }
   ],
   "source": [
    "import numpy as np\n",
    "from sklearn.cluster import KMeans\n",
    "\n",
    "# Tập dữ liệu\n",
    "data = np.array([\n",
    "    [1, 3],\n",
    "    [1.5, 3.2],\n",
    "    [1.3, 2.8],\n",
    "    [3, 1]\n",
    "])\n",
    "\n",
    "# Khởi tạo thuật toán K-means với số cụm k = 2\n",
    "kmeans = KMeans(n_clusters=2, random_state=0)\n",
    "\n",
    "# Huấn luyện mô hình\n",
    "kmeans.fit(data)\n",
    "\n",
    "# Kết quả phân cụm\n",
    "labels = kmeans.labels_\n",
    "centroids = kmeans.cluster_centers_\n",
    "\n",
    "# In ra kết quả\n",
    "print(\"Nhãn của các điểm dữ liệu:\", labels)\n",
    "print(\"Tọa độ tâm cụm:\", centroids)\n"
   ]
  }
 ],
 "metadata": {
  "kernelspec": {
   "display_name": "Python 3",
   "language": "python",
   "name": "python3"
  },
  "language_info": {
   "codemirror_mode": {
    "name": "ipython",
    "version": 3
   },
   "file_extension": ".py",
   "mimetype": "text/x-python",
   "name": "python",
   "nbconvert_exporter": "python",
   "pygments_lexer": "ipython3",
   "version": "3.12.7"
  }
 },
 "nbformat": 4,
 "nbformat_minor": 2
}
